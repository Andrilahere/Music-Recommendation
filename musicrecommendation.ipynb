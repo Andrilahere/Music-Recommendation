{
  "nbformat": 4,
  "nbformat_minor": 0,
  "metadata": {
    "colab": {
      "provenance": []
    },
    "kernelspec": {
      "name": "python3",
      "display_name": "Python 3"
    },
    "language_info": {
      "name": "python"
    }
  },
  "cells": [
    {
      "cell_type": "code",
      "execution_count": 1,
      "metadata": {
        "id": "n-2l-iJQRJmA"
      },
      "outputs": [],
      "source": [
        "import requests\n",
        "import base64"
      ]
    },
    {
      "cell_type": "code",
      "source": [
        "CLIENT_ID = '8fd3e798bc61415db82f3e5504123aaa'\n",
        "CLIENT_SECRET = '7062e81e45a247dd8db99b5b7de6ec45'"
      ],
      "metadata": {
        "id": "fn-L7d23Rr1j"
      },
      "execution_count": 2,
      "outputs": []
    },
    {
      "cell_type": "code",
      "source": [
        "client_credentials = f\"{CLIENT_ID}:{CLIENT_SECRET}\"\n",
        "client_credentials_base64 = base64.b64encode(client_credentials.encode())"
      ],
      "metadata": {
        "id": "OXoltS8oRr_r"
      },
      "execution_count": 3,
      "outputs": []
    },
    {
      "cell_type": "code",
      "source": [
        "token_url = 'https://accounts.spotify.com/api/token'\n",
        "headers = {\n",
        "    'Authorization': f'Basic {client_credentials_base64.decode()}'\n",
        "}\n",
        "data = {\n",
        "    'grant_type': 'client_credentials'\n",
        "}\n",
        "response = requests.post(token_url, data=data, headers=headers)\n",
        "\n",
        "if response.status_code == 200:\n",
        "    access_token = response.json()['access_token']\n",
        "    print(\"Access token obtained successfully.\")\n",
        "else:\n",
        "    print(\"Error obtaining access token.\")\n",
        "    exit()"
      ],
      "metadata": {
        "colab": {
          "base_uri": "https://localhost:8080/"
        },
        "id": "tKD9fRtURsCX",
        "outputId": "f9355f1f-fac8-431c-8c63-705fb7b06d4e"
      },
      "execution_count": 4,
      "outputs": [
        {
          "output_type": "stream",
          "name": "stdout",
          "text": [
            "Access token obtained successfully.\n"
          ]
        }
      ]
    },
    {
      "cell_type": "code",
      "source": [
        "!pip install spotipy"
      ],
      "metadata": {
        "colab": {
          "base_uri": "https://localhost:8080/"
        },
        "id": "Trzx5ivWRsFG",
        "outputId": "0cd10d99-de09-4166-8c3b-9bd1450ca74e"
      },
      "execution_count": 5,
      "outputs": [
        {
          "output_type": "stream",
          "name": "stdout",
          "text": [
            "Collecting spotipy\n",
            "  Downloading spotipy-2.24.0-py3-none-any.whl.metadata (4.9 kB)\n",
            "Collecting redis>=3.5.3 (from spotipy)\n",
            "  Downloading redis-5.1.1-py3-none-any.whl.metadata (9.1 kB)\n",
            "Requirement already satisfied: requests>=2.25.0 in /usr/local/lib/python3.10/dist-packages (from spotipy) (2.32.3)\n",
            "Requirement already satisfied: urllib3>=1.26.0 in /usr/local/lib/python3.10/dist-packages (from spotipy) (2.2.3)\n",
            "Requirement already satisfied: async-timeout>=4.0.3 in /usr/local/lib/python3.10/dist-packages (from redis>=3.5.3->spotipy) (4.0.3)\n",
            "Requirement already satisfied: charset-normalizer<4,>=2 in /usr/local/lib/python3.10/dist-packages (from requests>=2.25.0->spotipy) (3.4.0)\n",
            "Requirement already satisfied: idna<4,>=2.5 in /usr/local/lib/python3.10/dist-packages (from requests>=2.25.0->spotipy) (3.10)\n",
            "Requirement already satisfied: certifi>=2017.4.17 in /usr/local/lib/python3.10/dist-packages (from requests>=2.25.0->spotipy) (2024.8.30)\n",
            "Downloading spotipy-2.24.0-py3-none-any.whl (30 kB)\n",
            "Downloading redis-5.1.1-py3-none-any.whl (261 kB)\n",
            "\u001b[2K   \u001b[90m━━━━━━━━━━━━━━━━━━━━━━━━━━━━━━━━━━━━━━━━\u001b[0m \u001b[32m261.3/261.3 kB\u001b[0m \u001b[31m9.7 MB/s\u001b[0m eta \u001b[36m0:00:00\u001b[0m\n",
            "\u001b[?25hInstalling collected packages: redis, spotipy\n",
            "Successfully installed redis-5.1.1 spotipy-2.24.0\n"
          ]
        }
      ]
    },
    {
      "cell_type": "code",
      "source": [
        "import pandas as pd\n",
        "import spotipy\n",
        "from spotipy.oauth2 import SpotifyOAuth\n",
        "\n",
        "def get_trending_playlist_data(playlist_id, access_token):\n",
        "    sp = spotipy.Spotify(auth=access_token)\n",
        "\n",
        "    # Get the tracks from the playlist\n",
        "    playlist_tracks = sp.playlist_tracks(playlist_id, fields='items(track(id, name, artists, album(id, name)))')\n",
        "\n",
        "    # Extract relevant information and store in a list of dictionaries\n",
        "    music_data = []\n",
        "    for track_info in playlist_tracks['items']:\n",
        "        track = track_info['track']\n",
        "        track_name = track['name']\n",
        "        artists = ', '.join([artist['name'] for artist in track['artists']])\n",
        "        album_name = track['album']['name']\n",
        "        album_id = track['album']['id']\n",
        "        track_id = track['id']\n",
        "\n",
        "        # Get audio features for the track\n",
        "        audio_features = sp.audio_features(track_id)[0] if track_id != 'Not available' else None\n",
        "\n",
        "        # Get release date of the album\n",
        "        try:\n",
        "            album_info = sp.album(album_id) if album_id != 'Not available' else None\n",
        "            release_date = album_info['release_date'] if album_info else None\n",
        "        except:\n",
        "            release_date = None\n",
        "\n",
        "        # Get popularity of the track\n",
        "        try:\n",
        "            track_info = sp.track(track_id) if track_id != 'Not available' else None\n",
        "            popularity = track_info['popularity'] if track_info else None\n",
        "        except:\n",
        "            popularity = None\n",
        "\n",
        "        # Add additional track information to the track data\n",
        "        track_data = {\n",
        "            'Track Name': track_name,\n",
        "            'Artists': artists,\n",
        "            'Album Name': album_name,\n",
        "            'Album ID': album_id,\n",
        "            'Track ID': track_id,\n",
        "            'Popularity': popularity,\n",
        "            'Release Date': release_date,\n",
        "            'Duration (ms)': audio_features['duration_ms'] if audio_features else None,\n",
        "            'Explicit': track_info.get('explicit', None),\n",
        "            'External URLs': track_info.get('external_urls', {}).get('spotify', None),\n",
        "            'Danceability': audio_features['danceability'] if audio_features else None,\n",
        "            'Energy': audio_features['energy'] if audio_features else None,\n",
        "            'Key': audio_features['key'] if audio_features else None,\n",
        "            'Loudness': audio_features['loudness'] if audio_features else None,\n",
        "            'Mode': audio_features['mode'] if audio_features else None,\n",
        "            'Speechiness': audio_features['speechiness'] if audio_features else None,\n",
        "            'Acousticness': audio_features['acousticness'] if audio_features else None,\n",
        "            'Instrumentalness': audio_features['instrumentalness'] if audio_features else None,\n",
        "            'Liveness': audio_features['liveness'] if audio_features else None,\n",
        "            'Valence': audio_features['valence'] if audio_features else None,\n",
        "            'Tempo': audio_features['tempo'] if audio_features else None,\n",
        "            # Add more attributes as needed\n",
        "        }\n",
        "\n",
        "        music_data.append(track_data)\n",
        "\n",
        "    # Create a pandas DataFrame from the list of dictionaries\n",
        "    df = pd.DataFrame(music_data)\n",
        "\n",
        "    return df\n",
        "\n",
        ""
      ],
      "metadata": {
        "id": "vxKOAAAuRsHu"
      },
      "execution_count": 6,
      "outputs": []
    },
    {
      "cell_type": "code",
      "source": [
        "playlist_id = '4IlbA17RKTZflJrbpMa1Mu'\n",
        "\n",
        "# Call the function to get the music data from the playlist and store it in a DataFrame\n",
        "music_df = get_trending_playlist_data(playlist_id, access_token)\n",
        "\n",
        "# Display the DataFrame\n",
        "print(music_df)"
      ],
      "metadata": {
        "colab": {
          "base_uri": "https://localhost:8080/"
        },
        "id": "bRYQiF04RsLO",
        "outputId": "94b6db49-6392-4199-d4c6-13c2bd572ef1"
      },
      "execution_count": 7,
      "outputs": [
        {
          "output_type": "stream",
          "name": "stdout",
          "text": [
            "                                           Track Name  \\\n",
            "0                                        Lo Maan Liya   \n",
            "1                                   Agar Tum Saath Ho   \n",
            "2   Hamari Adhuri Kahani (Title Track) [From \"Hama...   \n",
            "3   Ve Kamleya (From \"Rocky Aur Rani Kii Prem Kaha...   \n",
            "4                                  Roke Na Ruke Naina   \n",
            "..                                                ...   \n",
            "95        Tu Hi Yaar Mera (From \"Pati Patni Aur Woh\")   \n",
            "96                                          Tu Mileya   \n",
            "97              Mummy Nu Pasand (From \"Jai Mummy Di\")   \n",
            "98                                         Bhula Dena   \n",
            "99                                 Chori Kiya Re Jiya   \n",
            "\n",
            "                                              Artists  \\\n",
            "0                                        Arijit Singh   \n",
            "1                           Alka Yagnik, Arijit Singh   \n",
            "2                         Jeet Gannguli, Arijit Singh   \n",
            "3   Pritam, Arijit Singh, Shreya Ghoshal, Shadab F...   \n",
            "4                                        Arijit Singh   \n",
            "..                                                ...   \n",
            "95            Rochak Kohli, Arijit Singh, Neha Kakkar   \n",
            "96                                      Darshan Raval   \n",
            "97              Sunanda Sharma, Tanishk Bagchi, Jaani   \n",
            "98                                      Mustafa Zahid   \n",
            "99                         Sonu Nigam, Shreya Ghoshal   \n",
            "\n",
            "                                           Album Name                Album ID  \\\n",
            "0                                         Raaz Reboot  3I2A5pZmsWxTZqGpGnxdAf   \n",
            "1                                             Tamasha  2CUXo26JAWIbQx0EVMnjpA   \n",
            "2   Hamari Adhuri Kahani (Title Track) [From \"Hama...  1MfAiQSXy5zSUEV63MAK8d   \n",
            "3   Ve Kamleya (From \"Rocky Aur Rani Kii Prem Kaha...  1hvEqSYJOEoLoe0IRTy7PX   \n",
            "4                               Badrinath Ki Dulhania  26ska1StQhwbWADLTg2hky   \n",
            "..                                                ...                     ...   \n",
            "95        Tu Hi Yaar Mera (From \"Pati Patni Aur Woh\")  7aJiY5GW8uSpZItQXcmeVM   \n",
            "96                                          Tu Mileya  21wYDuEQeG7jvdeMe7S73r   \n",
            "97              Mummy Nu Pasand (From \"Jai Mummy Di\")  6CBvOAJkYbQbehRvq4nrcE   \n",
            "98                                         Aashiqui 2  0Rkv5iqjF2uenfL0OVB8hg   \n",
            "99                                            Dabangg  6iQgQoOdousn3fw6kkEhMZ   \n",
            "\n",
            "                  Track ID  Popularity Release Date  Duration (ms)  Explicit  \\\n",
            "0   2wJ9d1Gfj8OqcznPAroqvh          63   2016-08-19         300274     False   \n",
            "1   3hkC9EHFZNQPXrtl8WPHnX          70   2015-10-16         341055     False   \n",
            "2   3eQL03MvTJQkLqXryJ8Fja          54   2015-05-21         398799     False   \n",
            "3   6EivvaEepVTjmDde43eGiB          67   2023-07-18         246989     False   \n",
            "4   2k7RoJQR0mi8WVWK0Och93          60   2017-02-14         278402     False   \n",
            "..                     ...         ...          ...            ...       ...   \n",
            "95  57jOEZtoLQK4zF2x55bdkp          67   2019-12-02         200992     False   \n",
            "96  7glqjOAauUoPmOXp2Ovpcf          59   2023-04-12         193705     False   \n",
            "97  74qF0JeFMVilMEeFDiQZ48          61   2019-12-17         184609     False   \n",
            "98  0WNCYgCd33LnBnw22WFuq8          65   2013-04-06         240723     False   \n",
            "99  5CteVMD0U8C9WbAWvrNgkN          60   2010-08-04         286720     False   \n",
            "\n",
            "                                        External URLs  ...  Energy  Key  \\\n",
            "0   https://open.spotify.com/track/2wJ9d1Gfj8Oqczn...  ...   0.550   11   \n",
            "1   https://open.spotify.com/track/3hkC9EHFZNQPXrt...  ...   0.519    3   \n",
            "2   https://open.spotify.com/track/3eQL03MvTJQkLqX...  ...   0.359    0   \n",
            "3   https://open.spotify.com/track/6EivvaEepVTjmDd...  ...   0.658    2   \n",
            "4   https://open.spotify.com/track/2k7RoJQR0mi8WVW...  ...   0.381    9   \n",
            "..                                                ...  ...     ...  ...   \n",
            "95  https://open.spotify.com/track/57jOEZtoLQK4zF2...  ...   0.382    7   \n",
            "96  https://open.spotify.com/track/7glqjOAauUoPmOX...  ...   0.645    3   \n",
            "97  https://open.spotify.com/track/74qF0JeFMVilMEe...  ...   0.969    8   \n",
            "98  https://open.spotify.com/track/0WNCYgCd33LnBnw...  ...   0.508    4   \n",
            "99  https://open.spotify.com/track/5CteVMD0U8C9WbA...  ...   0.585    9   \n",
            "\n",
            "    Loudness  Mode  Speechiness  Acousticness  Instrumentalness  Liveness  \\\n",
            "0     -6.172     0       0.0262        0.7280          0.000036     0.251   \n",
            "1     -8.744     1       0.0326        0.5570          0.000268     0.172   \n",
            "2     -7.569     1       0.0312        0.8450          0.000000     0.133   \n",
            "3     -7.600     1       0.0668        0.8100          0.033300     0.120   \n",
            "4     -9.310     1       0.0283        0.7220          0.000012     0.154   \n",
            "..       ...   ...          ...           ...               ...       ...   \n",
            "95    -8.237     1       0.0466        0.5850          0.000000     0.128   \n",
            "96    -5.186     1       0.0335        0.5590          0.000002     0.140   \n",
            "97    -0.079     0       0.1050        0.0149          0.000153     0.352   \n",
            "98    -6.660     0       0.0295        0.6300          0.000000     0.203   \n",
            "99    -5.367     1       0.0288        0.4750          0.000000     0.317   \n",
            "\n",
            "    Valence    Tempo  \n",
            "0     0.436  110.079  \n",
            "1     0.415  122.925  \n",
            "2     0.193   73.059  \n",
            "3     0.534   87.607  \n",
            "4     0.263   80.658  \n",
            "..      ...      ...  \n",
            "95    0.499   87.029  \n",
            "96    0.463   89.988  \n",
            "97    0.802   94.018  \n",
            "98    0.235  131.728  \n",
            "99    0.449  132.741  \n",
            "\n",
            "[100 rows x 21 columns]\n"
          ]
        }
      ]
    },
    {
      "cell_type": "code",
      "source": [
        "print(music_df.isnull().sum())"
      ],
      "metadata": {
        "colab": {
          "base_uri": "https://localhost:8080/"
        },
        "id": "nmUD74YyddFY",
        "outputId": "99eb430b-cb52-4e41-a2a1-0381671323b8"
      },
      "execution_count": 8,
      "outputs": [
        {
          "output_type": "stream",
          "name": "stdout",
          "text": [
            "Track Name          0\n",
            "Artists             0\n",
            "Album Name          0\n",
            "Album ID            0\n",
            "Track ID            0\n",
            "Popularity          0\n",
            "Release Date        0\n",
            "Duration (ms)       0\n",
            "Explicit            0\n",
            "External URLs       0\n",
            "Danceability        0\n",
            "Energy              0\n",
            "Key                 0\n",
            "Loudness            0\n",
            "Mode                0\n",
            "Speechiness         0\n",
            "Acousticness        0\n",
            "Instrumentalness    0\n",
            "Liveness            0\n",
            "Valence             0\n",
            "Tempo               0\n",
            "dtype: int64\n"
          ]
        }
      ]
    },
    {
      "cell_type": "code",
      "source": [
        "import pandas as pd\n",
        "import numpy as np\n",
        "from sklearn.model_selection import train_test_split\n",
        "from sklearn.preprocessing import MinMaxScaler\n",
        "from datetime import datetime\n",
        "from sklearn.metrics.pairwise import cosine_similarity\n",
        "\n",
        "data = music_df"
      ],
      "metadata": {
        "id": "ni5gQdV_ddHx"
      },
      "execution_count": 9,
      "outputs": []
    },
    {
      "cell_type": "code",
      "source": [
        "def calculate_weighted_popularity(release_date):\n",
        "    # Convert the release date to datetime object\n",
        "    release_date = datetime.strptime(release_date, '%Y-%m-%d')\n",
        "\n",
        "    # Calculate the time span between release date and today's date\n",
        "    time_span = datetime.now() - release_date\n",
        "\n",
        "    # Calculate the weighted popularity score based on time span (e.g., more recent releases have higher weight)\n",
        "    weight = 1 / (time_span.days + 1)\n",
        "    return weight"
      ],
      "metadata": {
        "id": "_DCwP1i7ddKa"
      },
      "execution_count": 10,
      "outputs": []
    },
    {
      "cell_type": "code",
      "source": [
        "# Normalize the music features using Min-Max scaling\n",
        "scaler = MinMaxScaler()\n",
        "music_features = music_df[['Danceability', 'Energy', 'Key',\n",
        "                           'Loudness', 'Mode', 'Speechiness', 'Acousticness',\n",
        "                           'Instrumentalness', 'Liveness', 'Valence', 'Tempo']].values\n",
        "music_features_scaled = scaler.fit_transform(music_features)"
      ],
      "metadata": {
        "id": "fHyTo6HxddMw"
      },
      "execution_count": 11,
      "outputs": []
    },
    {
      "cell_type": "code",
      "source": [
        "# a function to get content-based recommendations based on music features\n",
        "def content_based_recommendations(input_song_name, num_recommendations=10):\n",
        "    if input_song_name not in music_df['Track Name'].values:\n",
        "        print(f\"'{input_song_name}' not found in the dataset. Please enter a valid song name.\")\n",
        "        return\n",
        "\n",
        "    # Get the index of the input song in the music DataFrame\n",
        "    input_song_index = music_df[music_df['Track Name'] == input_song_name].index[0]\n",
        "\n",
        "    # Calculate the similarity scores based on music features (cosine similarity)\n",
        "    similarity_scores = cosine_similarity([music_features_scaled[input_song_index]], music_features_scaled)\n",
        "\n",
        "    # Get the indices of the most similar songs\n",
        "    similar_song_indices = similarity_scores.argsort()[0][::-1][1:num_recommendations + 1]\n",
        "\n",
        "    # Get the names of the most similar songs based on content-based filtering\n",
        "    content_based_recommendations = music_df.iloc[similar_song_indices][['Track Name', 'Artists', 'Album Name', 'Release Date', 'Popularity']]\n",
        "\n",
        "    return content_based_recommendations"
      ],
      "metadata": {
        "id": "Qd9aQzbYddQX"
      },
      "execution_count": 12,
      "outputs": []
    },
    {
      "cell_type": "code",
      "source": [
        "#import pandas as pd\n",
        "\n",
        "#def hybrid_recommendations(input_song_name, num_recommendations=10, alpha=0.5):\n",
        " #   if input_song_name not in music_df['Track Name'].values:\n",
        "  #      print(f\"'{input_song_name}' not found in the dataset. Please enter a valid song name.\")\n",
        "   #     return\n",
        "\n",
        "    #content_based_rec = content_based_recommendations(input_song_name, num_recommendations)\n",
        "\n",
        "    #popularity_score = music_df.loc[music_df['Track Name'] == input_song_name, 'Popularity'].values[0]\n",
        "\n",
        "    #weighted_popularity_score = popularity_score * calculate_weighted_popularity(\n",
        "     #   music_df.loc[music_df['Track Name'] == input_song_name, 'Release Date'].values[0]\n",
        "    #)\n",
        "\n",
        "    #new_entry = pd.DataFrame({\n",
        "     #   'Track Name': [input_song_name],\n",
        "      #  'Artists': [music_df.loc[music_df['Track Name'] == input_song_name, 'Artists'].values[0]],\n",
        "       # 'Album Name': [music_df.loc[music_df['Track Name'] == input_song_name, 'Album Name'].values[0]],\n",
        "       # 'Release Date': [music_df.loc[music_df['Track Name'] == input_song_name, 'Release Date'].values[0]],\n",
        "       # 'Popularity': [weighted_popularity_score]\n",
        "    #})\n",
        "\n",
        "    #hybrid_recommendations = pd.concat([content_based_rec, new_entry], ignore_index=True)\n",
        "\n",
        "    #hybrid_recommendations = hybrid_recommendations.sort_values(by='Popularity', ascending=False)\n",
        "\n",
        "    #hybrid_recommendations = hybrid_recommendations[hybrid_recommendations['Track Name'] != input_song_name]\n",
        "\n",
        "    #return hybrid_recommendations"
      ],
      "metadata": {
        "id": "Ikh2MYcbCsWV"
      },
      "execution_count": 13,
      "outputs": []
    },
    {
      "cell_type": "code",
      "source": [
        "import pandas as pd\n",
        "\n",
        "def hybrid_recommendations(input_song_name, num_recommendations=10, alpha=0.5):\n",
        "    # Check if song is in the dataset\n",
        "    if input_song_name not in music_df['Track Name'].values:\n",
        "        # Handle case where song is not found: find similar songs based on attributes\n",
        "        similar_songs = music_df[music_df['Track Name'].str.contains(input_song_name, case=False, na=False)]\n",
        "\n",
        "        # If similar songs are found, use the first similar song\n",
        "        if not similar_songs.empty:\n",
        "            print(f\"'{input_song_name}' not found, showing recommendations for a similar song.\")\n",
        "            input_song_name = similar_songs.iloc[0]['Track Name']\n",
        "        else:\n",
        "            # If no similar songs are found, fallback to default values\n",
        "            print(f\"'{input_song_name}' not found. Using default values for recommendations.\")\n",
        "\n",
        "            # Use default metadata (average popularity, genre, etc.)\n",
        "            default_popularity = music_df['Popularity'].mean()\n",
        "            default_release_date = music_df['Release Date'].mode()[0]  # Most common release date\n",
        "\n",
        "            new_entry = pd.DataFrame({\n",
        "                'Track Name': [input_song_name],\n",
        "                'Artists': ['Unknown Artist'],\n",
        "                'Album Name': ['Unknown Album'],\n",
        "                'Release Date': [default_release_date],\n",
        "                'Popularity': [default_popularity]\n",
        "            })\n",
        "\n",
        "            # Add the default entry as a recommendation\n",
        "            return new_entry.sort_values(by='Popularity', ascending=False).head(num_recommendations)\n",
        "\n",
        "    # Content-based recommendations for the found/updated song\n",
        "    content_based_rec = content_based_recommendations(input_song_name, num_recommendations)\n",
        "\n",
        "    # Calculate weighted popularity score\n",
        "    popularity_score = music_df.loc[music_df['Track Name'] == input_song_name, 'Popularity'].values[0]\n",
        "    weighted_popularity_score = popularity_score * calculate_weighted_popularity(\n",
        "        music_df.loc[music_df['Track Name'] == input_song_name, 'Release Date'].values[0]\n",
        "    )\n",
        "\n",
        "    # Create new entry for the input song with updated popularity\n",
        "    new_entry = pd.DataFrame({\n",
        "        'Track Name': [input_song_name],\n",
        "        'Artists': [music_df.loc[music_df['Track Name'] == input_song_name, 'Artists'].values[0]],\n",
        "        'Album Name': [music_df.loc[music_df['Track Name'] == input_song_name, 'Album Name'].values[0]],\n",
        "        'Release Date': [music_df.loc[music_df['Track Name'] == input_song_name, 'Release Date'].values[0]],\n",
        "        'Popularity': [weighted_popularity_score]\n",
        "    })\n",
        "\n",
        "    # Concatenate content-based recommendations and the new entry\n",
        "    hybrid_recommendations = pd.concat([content_based_rec, new_entry], ignore_index=True)\n",
        "\n",
        "    # Sort by popularity and remove the input song from the final list\n",
        "    hybrid_recommendations = hybrid_recommendations.sort_values(by='Popularity', ascending=False)\n",
        "    hybrid_recommendations = hybrid_recommendations[hybrid_recommendations['Track Name'] != input_song_name]\n",
        "\n",
        "    return hybrid_recommendations.head(num_recommendations)\n"
      ],
      "metadata": {
        "id": "NY3jz86RGKZ6"
      },
      "execution_count": 14,
      "outputs": []
    },
    {
      "cell_type": "code",
      "source": [
        "input_song_name = \"Hamari Adhuri Kahani\"\n",
        "recommendations = hybrid_recommendations(input_song_name, num_recommendations=10)\n",
        "print(f\"Hybrid recommended songs for '{input_song_name}':\")\n",
        "print(recommendations)"
      ],
      "metadata": {
        "colab": {
          "base_uri": "https://localhost:8080/"
        },
        "id": "ZI7_S92hCsYq",
        "outputId": "a6e33771-1d44-4bcb-d41c-95048682bc5c"
      },
      "execution_count": 15,
      "outputs": [
        {
          "output_type": "stream",
          "name": "stdout",
          "text": [
            "'Hamari Adhuri Kahani' not found, showing recommendations for a similar song.\n",
            "Hybrid recommended songs for 'Hamari Adhuri Kahani':\n",
            "                                          Track Name  \\\n",
            "4                                          Aaj Bhi 2   \n",
            "0               Mann Bharryaa 2.0 (From \"Shershaah\")   \n",
            "9                    Tenu Sang Rakhna (From \"Jigra\")   \n",
            "3                               Abhi Mujh Mein Kahin   \n",
            "6                         Raanjhan (From \"Do Patti\")   \n",
            "5                                  Baarish Lete Aana   \n",
            "1                                   Lambiya Judaiyan   \n",
            "8                                    Teri Ho Na Saki   \n",
            "7  Ro Lain De (From \"Rocky Aur Rani Kii Prem Kaha...   \n",
            "2                                             Faasle   \n",
            "\n",
            "                                             Artists  \\\n",
            "4                                      Vishal Mishra   \n",
            "0                                     B Praak, Jaani   \n",
            "9  Achint, Arijit Singh, Anumita Nadesan, Varun G...   \n",
            "3                              Ajay-Atul, Sonu Nigam   \n",
            "6   Sachet-Parampara, Parampara Tandon, Kausar Munir   \n",
            "5                                      Darshan Raval   \n",
            "1                                        Bilal Saeed   \n",
            "8                                               King   \n",
            "7  Pritam, Sonu Nigam, Shilpa Rao, Amitabh Bhatta...   \n",
            "2                           Anand Bhaskar Collective   \n",
            "\n",
            "                                       Album Name Release Date  Popularity  \n",
            "4                                       Aaj Bhi 2   2024-09-12        70.0  \n",
            "0            Mann Bharryaa 2.0 (From \"Shershaah\")   2021-08-15        67.0  \n",
            "9                 Tenu Sang Rakhna (From \"Jigra\")   2024-10-03        67.0  \n",
            "3  Agneepath (Original Motion Picture Soundtrack)   2011-12-16        63.0  \n",
            "6                      Raanjhan (From \"Do Patti\")   2024-10-04        63.0  \n",
            "5                               Baarish Lete Aana   2018-07-18        61.0  \n",
            "1                                Lambiya Judaiyan         2018        60.0  \n",
            "8                                 Shayad Woh Sune   2023-07-14        59.0  \n",
            "7                 Rocky Aur Rani Kii Prem Kahaani   2024-05-15        51.0  \n",
            "2                                       Excuse Me   2017-01-24        39.0  \n"
          ]
        }
      ]
    },
    {
      "cell_type": "code",
      "source": [],
      "metadata": {
        "id": "Ae33yC6oCsbe"
      },
      "execution_count": 15,
      "outputs": []
    },
    {
      "cell_type": "code",
      "source": [],
      "metadata": {
        "id": "05isoRa6CsfH"
      },
      "execution_count": 15,
      "outputs": []
    }
  ]
}